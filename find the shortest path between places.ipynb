{
 "cells": [
  {
   "cell_type": "markdown",
   "id": "de3be6cf",
   "metadata": {},
   "source": [
    "# Assignment- 11- You have been provided with a dataset of 300 places collected by a taxi company. Each location is associated with a two-dimensional point that represents longitude and latitude. For example, ‘-112.1, 33.5’ means the longitude is -112.1 and the latitude is 33.5.\n",
    "\n",
    " \n",
    "\n",
    "# Using the pairs of latitude and longitude, find location clusters, using k-means clustering, Agglomerative clustering, DBSCAN clustering, and Gaussian Mixture Model.\n",
    "# Using genetic and simulated annealing algorithms, find the shortest path between places within cluster from 1 (choose the cluster algorithm with the highest Silhouette score).\n"
   ]
  },
  {
   "cell_type": "code",
   "execution_count": 1,
   "id": "6c2f4826",
   "metadata": {},
   "outputs": [
    {
     "name": "stdout",
     "output_type": "stream",
     "text": [
      "Requirement already satisfied: kneed in c:\\users\\bharani\\anaconda3\\lib\\site-packages (0.7.0)\n",
      "Requirement already satisfied: matplotlib in c:\\users\\bharani\\anaconda3\\lib\\site-packages (from kneed) (3.5.1)\n",
      "Requirement already satisfied: numpy>=1.14.2 in c:\\users\\bharani\\anaconda3\\lib\\site-packages (from kneed) (1.21.5)\n",
      "Requirement already satisfied: scipy in c:\\users\\bharani\\anaconda3\\lib\\site-packages (from kneed) (1.7.3)\n",
      "Requirement already satisfied: fonttools>=4.22.0 in c:\\users\\bharani\\anaconda3\\lib\\site-packages (from matplotlib->kneed) (4.25.0)\n",
      "Requirement already satisfied: kiwisolver>=1.0.1 in c:\\users\\bharani\\anaconda3\\lib\\site-packages (from matplotlib->kneed) (1.3.2)\n",
      "Requirement already satisfied: packaging>=20.0 in c:\\users\\bharani\\anaconda3\\lib\\site-packages (from matplotlib->kneed) (21.3)\n",
      "Requirement already satisfied: pillow>=6.2.0 in c:\\users\\bharani\\anaconda3\\lib\\site-packages (from matplotlib->kneed) (9.0.1)\n",
      "Requirement already satisfied: python-dateutil>=2.7 in c:\\users\\bharani\\anaconda3\\lib\\site-packages (from matplotlib->kneed) (2.8.2)\n",
      "Requirement already satisfied: pyparsing>=2.2.1 in c:\\users\\bharani\\anaconda3\\lib\\site-packages (from matplotlib->kneed) (3.0.4)\n",
      "Requirement already satisfied: cycler>=0.10 in c:\\users\\bharani\\anaconda3\\lib\\site-packages (from matplotlib->kneed) (0.11.0)\n",
      "Requirement already satisfied: six>=1.5 in c:\\users\\bharani\\anaconda3\\lib\\site-packages (from python-dateutil>=2.7->matplotlib->kneed) (1.16.0)\n"
     ]
    }
   ],
   "source": [
    "!pip install --upgrade kneed"
   ]
  },
  {
   "cell_type": "code",
   "execution_count": 2,
   "id": "0201bef6",
   "metadata": {},
   "outputs": [],
   "source": [
    "import numpy as np\n",
    "import pandas as pd\n",
    "import matplotlib.pyplot as plt\n",
    "from kneed import KneeLocator\n",
    "\n",
    "from sklearn.preprocessing import StandardScaler\n",
    "from sklearn import preprocessing\n",
    "\n",
    "%matplotlib inline "
   ]
  },
  {
   "cell_type": "code",
   "execution_count": 3,
   "id": "6563032d",
   "metadata": {},
   "outputs": [
    {
     "data": {
      "text/html": [
       "<div>\n",
       "<style scoped>\n",
       "    .dataframe tbody tr th:only-of-type {\n",
       "        vertical-align: middle;\n",
       "    }\n",
       "\n",
       "    .dataframe tbody tr th {\n",
       "        vertical-align: top;\n",
       "    }\n",
       "\n",
       "    .dataframe thead th {\n",
       "        text-align: right;\n",
       "    }\n",
       "</style>\n",
       "<table border=\"1\" class=\"dataframe\">\n",
       "  <thead>\n",
       "    <tr style=\"text-align: right;\">\n",
       "      <th></th>\n",
       "      <th>Unnamed: 0</th>\n",
       "      <th>longitude</th>\n",
       "      <th>latitude</th>\n",
       "    </tr>\n",
       "  </thead>\n",
       "  <tbody>\n",
       "    <tr>\n",
       "      <th>0</th>\n",
       "      <td>0</td>\n",
       "      <td>-112.070792</td>\n",
       "      <td>33.451625</td>\n",
       "    </tr>\n",
       "    <tr>\n",
       "      <th>1</th>\n",
       "      <td>1</td>\n",
       "      <td>-112.065542</td>\n",
       "      <td>33.449298</td>\n",
       "    </tr>\n",
       "    <tr>\n",
       "      <th>2</th>\n",
       "      <td>2</td>\n",
       "      <td>-112.073931</td>\n",
       "      <td>33.456491</td>\n",
       "    </tr>\n",
       "    <tr>\n",
       "      <th>3</th>\n",
       "      <td>3</td>\n",
       "      <td>-112.074866</td>\n",
       "      <td>33.470115</td>\n",
       "    </tr>\n",
       "    <tr>\n",
       "      <th>4</th>\n",
       "      <td>4</td>\n",
       "      <td>-80.525690</td>\n",
       "      <td>43.477099</td>\n",
       "    </tr>\n",
       "  </tbody>\n",
       "</table>\n",
       "</div>"
      ],
      "text/plain": [
       "   Unnamed: 0   longitude   latitude\n",
       "0           0 -112.070792  33.451625\n",
       "1           1 -112.065542  33.449298\n",
       "2           2 -112.073931  33.456491\n",
       "3           3 -112.074866  33.470115\n",
       "4           4  -80.525690  43.477099"
      ]
     },
     "execution_count": 3,
     "metadata": {},
     "output_type": "execute_result"
    }
   ],
   "source": [
    "df = pd.read_csv('places.csv')\n",
    "df.head()"
   ]
  },
  {
   "cell_type": "code",
   "execution_count": 4,
   "id": "28f432da",
   "metadata": {},
   "outputs": [
    {
     "data": {
      "text/html": [
       "<div>\n",
       "<style scoped>\n",
       "    .dataframe tbody tr th:only-of-type {\n",
       "        vertical-align: middle;\n",
       "    }\n",
       "\n",
       "    .dataframe tbody tr th {\n",
       "        vertical-align: top;\n",
       "    }\n",
       "\n",
       "    .dataframe thead th {\n",
       "        text-align: right;\n",
       "    }\n",
       "</style>\n",
       "<table border=\"1\" class=\"dataframe\">\n",
       "  <thead>\n",
       "    <tr style=\"text-align: right;\">\n",
       "      <th></th>\n",
       "      <th>longitude</th>\n",
       "      <th>latitude</th>\n",
       "    </tr>\n",
       "  </thead>\n",
       "  <tbody>\n",
       "    <tr>\n",
       "      <th>0</th>\n",
       "      <td>-112.070792</td>\n",
       "      <td>33.451625</td>\n",
       "    </tr>\n",
       "    <tr>\n",
       "      <th>1</th>\n",
       "      <td>-112.065542</td>\n",
       "      <td>33.449298</td>\n",
       "    </tr>\n",
       "    <tr>\n",
       "      <th>2</th>\n",
       "      <td>-112.073931</td>\n",
       "      <td>33.456491</td>\n",
       "    </tr>\n",
       "    <tr>\n",
       "      <th>3</th>\n",
       "      <td>-112.074866</td>\n",
       "      <td>33.470115</td>\n",
       "    </tr>\n",
       "    <tr>\n",
       "      <th>4</th>\n",
       "      <td>-80.525690</td>\n",
       "      <td>43.477099</td>\n",
       "    </tr>\n",
       "  </tbody>\n",
       "</table>\n",
       "</div>"
      ],
      "text/plain": [
       "    longitude   latitude\n",
       "0 -112.070792  33.451625\n",
       "1 -112.065542  33.449298\n",
       "2 -112.073931  33.456491\n",
       "3 -112.074866  33.470115\n",
       "4  -80.525690  43.477099"
      ]
     },
     "execution_count": 4,
     "metadata": {},
     "output_type": "execute_result"
    }
   ],
   "source": [
    "ms_df = df[['longitude','latitude']]\n",
    "ms_df.head()"
   ]
  },
  {
   "cell_type": "code",
   "execution_count": 5,
   "id": "ceb4071c",
   "metadata": {},
   "outputs": [
    {
     "data": {
      "image/png": "[encoded data removed]",
      "text/plain": [
       "<Figure size 1080x756 with 1 Axes>"
      ]
     },
     "metadata": {
      "needs_background": "light"
     },
     "output_type": "display_data"
    }
   ],
   "source": [
    "# plots our data\n",
    "msplot = ms_df.plot.scatter(x='longitude',y='latitude',c='Black',title=\"taxi\",figsize=(15,10.5))\n",
    "msplot.set_xlabel(\"longitude\")\n",
    "msplot.set_ylabel(\"latitude\")\n",
    "plt.show()"
   ]
  },
  {
   "cell_type": "code",
   "execution_count": 6,
   "id": "e911384c",
   "metadata": {},
   "outputs": [],
   "source": [
    "# scales our data\n",
    "preprocessor = preprocessing.StandardScaler().fit(ms_df)\n",
    "ms_df_transforemd = preprocessor.transform(ms_df)"
   ]
  },
  {
   "cell_type": "code",
   "execution_count": 7,
   "id": "89f842dd",
   "metadata": {},
   "outputs": [],
   "source": [
    "scaled_df = pd.DataFrame(ms_df_transforemd,  columns = ms_df.columns)"
   ]
  },
  {
   "cell_type": "code",
   "execution_count": 8,
   "id": "e303f969",
   "metadata": {},
   "outputs": [
    {
     "data": {
      "image/png": "[encoded data removed]",
      "text/plain": [
       "<Figure size 1080x756 with 1 Axes>"
      ]
     },
     "metadata": {
      "needs_background": "light"
     },
     "output_type": "display_data"
    }
   ],
   "source": [
    "# plots our data\n",
    "msplot = scaled_df.plot.scatter(x='longitude',y='latitude',c='Black',title=\"taxi\",figsize=(15,10.5))\n",
    "msplot.set_xlabel(\"long\")\n",
    "msplot.set_ylabel(\"lat\")\n",
    "plt.show()"
   ]
  },
  {
   "cell_type": "markdown",
   "id": "a2d4a1e8",
   "metadata": {},
   "source": [
    "# Clustering Algorithms"
   ]
  },
  {
   "cell_type": "code",
   "execution_count": 9,
   "id": "f8bf1fbc",
   "metadata": {},
   "outputs": [],
   "source": [
    "from sklearn.cluster import KMeans\n",
    "wss = []\n",
    "inti_K = 4\n",
    "End_K = 14\n",
    "for i in range(inti_K,End_K):\n",
    "    fitx = KMeans(n_clusters=i, n_init=6, random_state=112).fit(scaled_df)\n",
    "    wss.append(fitx.inertia_)"
   ]
  },
  {
   "cell_type": "code",
   "execution_count": 10,
   "id": "32a0ab75",
   "metadata": {},
   "outputs": [
    {
     "data": {
      "image/png": "[encoded data removed]",
      "text/plain": [
       "<Figure size 792x612 with 1 Axes>"
      ]
     },
     "metadata": {
      "needs_background": "light"
     },
     "output_type": "display_data"
    }
   ],
   "source": [
    "plt.figure(figsize=(11,8.5))\n",
    "plt.plot(range(inti_K,End_K), wss, 'bx-')\n",
    "plt.xlabel('Number of clusters $k$')\n",
    "plt.ylabel('Inertia')\n",
    "plt.title('The Elbow Method showing the optimal $k$')\n",
    "plt.show()"
   ]
  },
  {
   "cell_type": "code",
   "execution_count": 11,
   "id": "9966b60c",
   "metadata": {},
   "outputs": [
    {
     "data": {
      "text/plain": [
       "8"
      ]
     },
     "execution_count": 11,
     "metadata": {},
     "output_type": "execute_result"
    }
   ],
   "source": [
    "\n",
    "from kneed import KneeLocator\n",
    "kl = KneeLocator(\n",
    "    range(inti_K, End_K), wss, curve=\"convex\", direction=\"decreasing\")\n",
    "kl.elbow"
   ]
  },
  {
   "cell_type": "code",
   "execution_count": 12,
   "id": "8ca5b891",
   "metadata": {},
   "outputs": [
    {
     "data": {
      "text/plain": [
       "8"
      ]
     },
     "execution_count": 12,
     "metadata": {},
     "output_type": "execute_result"
    }
   ],
   "source": [
    "kl.elbow"
   ]
  },
  {
   "cell_type": "code",
   "execution_count": 13,
   "id": "9c0ffd9f",
   "metadata": {},
   "outputs": [
    {
     "name": "stdout",
     "output_type": "stream",
     "text": [
      "Initialization complete\n",
      "Iteration 0, inertia 0.0017897399431936255\n",
      "Converged at iteration 0: center shift 3.414255868319148e-05 within tolerance 9.999999999999998e-05.\n",
      "Initialization complete\n",
      "Iteration 0, inertia 0.0018562087350913019\n",
      "Converged at iteration 0: center shift 2.214259426643457e-05 within tolerance 9.999999999999998e-05.\n",
      "Initialization complete\n",
      "Iteration 0, inertia 0.001709699933897797\n",
      "Converged at iteration 0: center shift 9.938998579542948e-06 within tolerance 9.999999999999998e-05.\n",
      "Initialization complete\n",
      "Iteration 0, inertia 0.0016231664530437938\n",
      "Converged at iteration 0: center shift 1.2404315303896175e-05 within tolerance 9.999999999999998e-05.\n",
      "Initialization complete\n",
      "Iteration 0, inertia 0.0015950681602311919\n",
      "Converged at iteration 0: center shift 1.7222197334595684e-05 within tolerance 9.999999999999998e-05.\n",
      "Initialization complete\n",
      "Iteration 0, inertia 0.0017017977713569745\n",
      "Converged at iteration 0: center shift 5.9359231046554724e-05 within tolerance 9.999999999999998e-05.\n",
      "Initialization complete\n",
      "Iteration 0, inertia 0.0016377366544543936\n",
      "Converged at iteration 0: center shift 2.2926994583134194e-05 within tolerance 9.999999999999998e-05.\n",
      "Initialization complete\n",
      "Iteration 0, inertia 0.0017959946889365263\n",
      "Converged at iteration 0: center shift 1.206341697665711e-05 within tolerance 9.999999999999998e-05.\n",
      "Initialization complete\n",
      "Iteration 0, inertia 0.0015893522064309592\n",
      "Converged at iteration 0: center shift 2.1583722826531407e-05 within tolerance 9.999999999999998e-05.\n",
      "Initialization complete\n",
      "Iteration 0, inertia 0.0016210277188057256\n",
      "Converged at iteration 0: center shift 9.347064364105414e-06 within tolerance 9.999999999999998e-05.\n"
     ]
    }
   ],
   "source": [
    "# from sklearn.cluster import KMeans\n",
    "ms_kmeans = KMeans(n_clusters=kl.elbow, random_state=112, verbose=1).fit(scaled_df)"
   ]
  },
  {
   "cell_type": "code",
   "execution_count": 14,
   "id": "7a8934ec",
   "metadata": {},
   "outputs": [
    {
     "data": {
      "image/png": "[encoded data removed]",
      "text/plain": [
       "<Figure size 1080x1080 with 1 Axes>"
      ]
     },
     "metadata": {
      "needs_background": "light"
     },
     "output_type": "display_data"
    }
   ],
   "source": [
    "plt.figure(figsize=(15,15))\n",
    "plt.scatter(scaled_df['longitude'],scaled_df['latitude'], c=ms_kmeans.labels_);\n",
    "plt.scatter(ms_kmeans.cluster_centers_[:,0],ms_kmeans.cluster_centers_[:,1], c='r', marker='h', s=100);"
   ]
  },
  {
   "cell_type": "code",
   "execution_count": 15,
   "id": "21332379",
   "metadata": {},
   "outputs": [
    {
     "data": {
      "text/plain": [
       "array([0, 0, 0, 7, 2, 2, 4, 0, 0, 4, 0, 4, 2, 7, 4, 4, 4, 7, 1, 2, 6, 2,\n",
       "       6, 4, 0, 2, 0, 2, 7, 7, 6, 4, 0, 0, 7, 4, 2, 0, 2, 4, 4, 4, 4, 4,\n",
       "       4, 2, 7, 4, 0, 7, 2, 4, 0, 3, 2, 4, 7, 3, 2, 4, 0, 2, 4, 7, 2, 4,\n",
       "       4, 0, 2, 4, 2, 0, 4, 2, 7, 7, 0, 4, 2, 0, 7, 4, 7, 2, 0, 5, 2, 0,\n",
       "       2, 0, 2, 2, 0, 2, 2, 6, 4, 4, 5, 0, 0, 2, 0, 0, 4, 4, 0, 2, 0, 0,\n",
       "       2, 4, 7, 2, 0, 0, 2, 0, 2, 2, 4, 4, 7, 2, 3, 2, 4, 2, 4, 2, 4, 6,\n",
       "       4, 0, 0, 2, 2, 0, 7, 2, 4, 4, 0, 2, 4, 4, 4, 7, 4, 3, 2, 4, 4, 2,\n",
       "       2, 2, 2, 2, 3, 3, 6, 7, 6, 0, 4, 6, 2, 2, 2, 6, 2, 0, 7, 1, 4, 0,\n",
       "       2, 4, 4, 2, 7, 2, 4, 4, 2, 4, 4, 2, 0, 2, 4, 4, 7, 0, 7, 4, 7, 0,\n",
       "       4, 7, 2, 7, 4, 7, 2, 1, 7, 6, 4, 4, 2, 4, 4, 0, 2, 2, 7, 2, 7, 2,\n",
       "       7, 2, 2, 2, 4, 4, 4, 0, 3, 7, 0, 4, 4, 2, 6, 4, 0, 4, 0, 4, 7, 0,\n",
       "       4, 4, 4, 4, 4, 4, 4, 0, 4, 4, 2, 2, 2, 2, 4, 0, 4, 7, 2, 0, 4, 6,\n",
       "       2, 5, 2, 0, 2, 0, 6, 4, 0, 4, 2, 2, 0, 0, 2, 2, 4, 4, 4, 4, 2, 2,\n",
       "       4, 6, 2, 7, 6, 7, 3, 7, 2, 7, 7, 7, 2, 7])"
      ]
     },
     "execution_count": 15,
     "metadata": {},
     "output_type": "execute_result"
    }
   ],
   "source": [
    "ms_kmeans.labels_"
   ]
  },
  {
   "cell_type": "markdown",
   "id": "ed5ad78e",
   "metadata": {},
   "source": [
    "# Quality of Silhouette"
   ]
  },
  {
   "cell_type": "code",
   "execution_count": 16,
   "id": "013182c3",
   "metadata": {},
   "outputs": [],
   "source": [
    "# Check with more k\n",
    "from sklearn.metrics import silhouette_score\n",
    "inti_K = 4\n",
    "End_K = 14\n",
    "scores = [0]\n",
    "for i in range(inti_K+1,End_K):\n",
    "    fitx = KMeans(n_clusters=i, n_init=6, random_state=112).fit(scaled_df)\n",
    "    score = silhouette_score(scaled_df, fitx.labels_)\n",
    "    scores.append(score)"
   ]
  },
  {
   "cell_type": "code",
   "execution_count": 17,
   "id": "7c292e72",
   "metadata": {},
   "outputs": [
    {
     "data": {
      "image/png": "[encoded data removed]",
      "text/plain": [
       "<Figure size 1080x756 with 1 Axes>"
      ]
     },
     "metadata": {
      "needs_background": "light"
     },
     "output_type": "display_data"
    }
   ],
   "source": [
    "plt.figure(figsize=(15,10.5))\n",
    "plt.plot(range(inti_K,End_K), np.array(scores), 'bx-')\n",
    "plt.xlabel('Number of clusters $k$')\n",
    "plt.ylabel('Average Silhouette')\n",
    "plt.title('Silhouette Scores for varying $k$ clusters')\n",
    "plt.show()"
   ]
  },
  {
   "cell_type": "markdown",
   "id": "bc5cc6cb",
   "metadata": {},
   "source": [
    "# Agglomerative Clustering"
   ]
  },
  {
   "cell_type": "markdown",
   "id": "c217e52f",
   "metadata": {},
   "source": [
    "# Code (via scipy)"
   ]
  },
  {
   "cell_type": "code",
   "execution_count": 18,
   "id": "8e89e71b",
   "metadata": {},
   "outputs": [
    {
     "data": {
      "image/png": "[encoded data removed]",
      "text/plain": [
       "<Figure size 1080x1800 with 1 Axes>"
      ]
     },
     "metadata": {
      "needs_background": "light"
     },
     "output_type": "display_data"
    }
   ],
   "source": [
    "import scipy.cluster.hierarchy as hac\n",
    "from scipy.spatial.distance import pdist\n",
    "\n",
    "plt.figure(figsize=(15,25))\n",
    "dist_mat = pdist(scaled_df, metric=\"euclidean\")\n",
    "ward_data = hac.ward(dist_mat)\n",
    "hac.dendrogram(ward_data, orientation='left', leaf_font_size=5);"
   ]
  },
  {
   "cell_type": "code",
   "execution_count": 19,
   "id": "a354a782",
   "metadata": {},
   "outputs": [
    {
     "data": {
      "text/plain": [
       "array([4, 4, 4, 2, 0, 0, 1, 4, 4, 1, 4, 1, 0, 2, 1, 1, 1, 2, 1, 0, 0, 0,\n",
       "       0, 1, 4, 0, 4, 0, 2, 4, 0, 1, 4, 4, 2, 1, 0, 4, 0, 1, 1, 1, 1, 1,\n",
       "       1, 0, 2, 1, 4, 2, 0, 1, 4, 3, 0, 1, 2, 3, 0, 1, 4, 0, 1, 2, 0, 1,\n",
       "       1, 4, 0, 1, 0, 4, 1, 0, 2, 2, 4, 1, 0, 4, 2, 1, 2, 0, 4, 2, 0, 4,\n",
       "       0, 4, 0, 0, 4, 0, 0, 0, 1, 1, 2, 4, 4, 0, 4, 4, 1, 1, 4, 0, 4, 4,\n",
       "       0, 1, 2, 0, 4, 4, 0, 4, 0, 0, 1, 1, 2, 0, 3, 0, 1, 0, 1, 0, 1, 0,\n",
       "       1, 4, 4, 0, 0, 4, 2, 0, 1, 1, 4, 0, 1, 1, 1, 2, 1, 3, 0, 1, 1, 0,\n",
       "       0, 0, 0, 0, 3, 3, 0, 2, 0, 4, 1, 0, 0, 0, 0, 0, 0, 4, 2, 1, 1, 4,\n",
       "       0, 1, 1, 0, 2, 0, 1, 1, 0, 1, 1, 0, 4, 0, 1, 1, 2, 4, 2, 1, 2, 4,\n",
       "       1, 2, 0, 2, 1, 2, 0, 1, 2, 0, 1, 1, 0, 1, 1, 4, 0, 0, 2, 0, 2, 0,\n",
       "       2, 0, 0, 0, 1, 1, 1, 4, 1, 2, 4, 1, 1, 0, 0, 1, 4, 1, 4, 1, 2, 4,\n",
       "       1, 1, 1, 1, 1, 1, 1, 4, 1, 1, 0, 0, 0, 0, 1, 4, 1, 2, 0, 4, 1, 0,\n",
       "       0, 2, 0, 4, 0, 4, 0, 1, 4, 1, 0, 0, 4, 4, 0, 0, 1, 1, 1, 1, 0, 0,\n",
       "       1, 0, 0, 2, 0, 2, 3, 2, 0, 2, 2, 2, 0, 2], dtype=int64)"
      ]
     },
     "execution_count": 19,
     "metadata": {},
     "output_type": "execute_result"
    }
   ],
   "source": [
    "from sklearn.cluster import AgglomerativeClustering\n",
    "\n",
    "Agglomerativecluster = AgglomerativeClustering(n_clusters=5, affinity='euclidean', linkage='ward')\n",
    "Agglomerativecluster.fit_predict(scaled_df)"
   ]
  },
  {
   "cell_type": "code",
   "execution_count": 20,
   "id": "d5e00a83",
   "metadata": {},
   "outputs": [
    {
     "data": {
      "text/plain": [
       "<matplotlib.collections.PathCollection at 0x1e1cafc1ca0>"
      ]
     },
     "execution_count": 20,
     "metadata": {},
     "output_type": "execute_result"
    },
    {
     "data": {
      "image/png": "[encoded data removed]",
      "text/plain": [
       "<Figure size 1080x720 with 1 Axes>"
      ]
     },
     "metadata": {
      "needs_background": "light"
     },
     "output_type": "display_data"
    }
   ],
   "source": [
    "plt.figure(figsize=(15, 10))\n",
    "data = scaled_df.values\n",
    "plt.scatter(data[:,0], data[:,1], c=Agglomerativecluster.labels_, cmap='rainbow')"
   ]
  },
  {
   "cell_type": "markdown",
   "id": "6f90b363",
   "metadata": {},
   "source": [
    "# Quality of Clusters: Silhouette"
   ]
  },
  {
   "cell_type": "code",
   "execution_count": 21,
   "id": "69034ad7",
   "metadata": {},
   "outputs": [
    {
     "data": {
      "text/plain": [
       "0.8476044172896635"
      ]
     },
     "execution_count": 21,
     "metadata": {},
     "output_type": "execute_result"
    }
   ],
   "source": [
    "silhouette_score(scaled_df, Agglomerativecluster.labels_)"
   ]
  },
  {
   "cell_type": "markdown",
   "id": "1932e0e0",
   "metadata": {},
   "source": [
    "# DBscan Clustering"
   ]
  },
  {
   "cell_type": "markdown",
   "id": "431a3f4a",
   "metadata": {},
   "source": [
    "# Code (via sklearn)"
   ]
  },
  {
   "cell_type": "code",
   "execution_count": 22,
   "id": "4fefce90",
   "metadata": {},
   "outputs": [],
   "source": [
    "from sklearn.cluster import DBSCAN\n",
    "fitted_dbscan = DBSCAN(eps=0.5).fit(scaled_df)"
   ]
  },
  {
   "cell_type": "code",
   "execution_count": 23,
   "id": "26a1d7bb",
   "metadata": {},
   "outputs": [
    {
     "data": {
      "text/plain": [
       "<matplotlib.collections.PathCollection at 0x1e1cb0544c0>"
      ]
     },
     "execution_count": 23,
     "metadata": {},
     "output_type": "execute_result"
    },
    {
     "data": {
      "image/png": "[encoded data removed]",
      "text/plain": [
       "<Figure size 1080x756 with 1 Axes>"
      ]
     },
     "metadata": {
      "needs_background": "light"
     },
     "output_type": "display_data"
    }
   ],
   "source": [
    "plt.figure(figsize=(15, 10.5))\n",
    "data = scaled_df.values\n",
    "plt.scatter(data[:,0], data[:,1], c=fitted_dbscan.labels_, cmap='rainbow')"
   ]
  },
  {
   "cell_type": "code",
   "execution_count": 24,
   "id": "73acf377",
   "metadata": {},
   "outputs": [
    {
     "data": {
      "text/plain": [
       "0.9977041776728723"
      ]
     },
     "execution_count": 24,
     "metadata": {},
     "output_type": "execute_result"
    }
   ],
   "source": [
    "silhouette_score(scaled_df, fitted_dbscan.labels_)"
   ]
  },
  {
   "cell_type": "code",
   "execution_count": 25,
   "id": "18c45298",
   "metadata": {},
   "outputs": [
    {
     "data": {
      "text/plain": [
       "array([0, 0, 0, 0, 1, 1, 2, 0, 0, 2, 0, 2, 1, 0, 2, 2, 2, 0, 2, 1, 1, 1,\n",
       "       1, 2, 0, 1, 0, 1, 0, 0, 1, 2, 0, 0, 0, 2, 1, 0, 1, 2, 2, 2, 2, 2,\n",
       "       2, 1, 0, 2, 0, 0, 1, 2, 0, 2, 1, 2, 0, 2, 1, 2, 0, 1, 2, 0, 1, 2,\n",
       "       2, 0, 1, 2, 1, 0, 2, 1, 0, 0, 0, 2, 1, 0, 0, 2, 0, 1, 0, 0, 1, 0,\n",
       "       1, 0, 1, 1, 0, 1, 1, 1, 2, 2, 0, 0, 0, 1, 0, 0, 2, 2, 0, 1, 0, 0,\n",
       "       1, 2, 0, 1, 0, 0, 1, 0, 1, 1, 2, 2, 0, 1, 2, 1, 2, 1, 2, 1, 2, 1,\n",
       "       2, 0, 0, 1, 1, 0, 0, 1, 2, 2, 0, 1, 2, 2, 2, 0, 2, 2, 1, 2, 2, 1,\n",
       "       1, 1, 1, 1, 2, 2, 1, 0, 1, 0, 2, 1, 1, 1, 1, 1, 1, 0, 0, 2, 2, 0,\n",
       "       1, 2, 2, 1, 0, 1, 2, 2, 1, 2, 2, 1, 0, 1, 2, 2, 0, 0, 0, 2, 0, 0,\n",
       "       2, 0, 1, 0, 2, 0, 1, 2, 0, 1, 2, 2, 1, 2, 2, 0, 1, 1, 0, 1, 0, 1,\n",
       "       0, 1, 1, 1, 2, 2, 2, 0, 2, 0, 0, 2, 2, 1, 1, 2, 0, 2, 0, 2, 0, 0,\n",
       "       2, 2, 2, 2, 2, 2, 2, 0, 2, 2, 1, 1, 1, 1, 2, 0, 2, 0, 1, 0, 2, 1,\n",
       "       1, 0, 1, 0, 1, 0, 1, 2, 0, 2, 1, 1, 0, 0, 1, 1, 2, 2, 2, 2, 1, 1,\n",
       "       2, 1, 1, 0, 1, 0, 2, 0, 1, 0, 0, 0, 1, 0], dtype=int64)"
      ]
     },
     "execution_count": 25,
     "metadata": {},
     "output_type": "execute_result"
    }
   ],
   "source": [
    "fitted_dbscan.labels_"
   ]
  },
  {
   "cell_type": "code",
   "execution_count": 26,
   "id": "23277f94",
   "metadata": {},
   "outputs": [
    {
     "data": {
      "text/html": [
       "<div>\n",
       "<style scoped>\n",
       "    .dataframe tbody tr th:only-of-type {\n",
       "        vertical-align: middle;\n",
       "    }\n",
       "\n",
       "    .dataframe tbody tr th {\n",
       "        vertical-align: top;\n",
       "    }\n",
       "\n",
       "    .dataframe thead th {\n",
       "        text-align: right;\n",
       "    }\n",
       "</style>\n",
       "<table border=\"1\" class=\"dataframe\">\n",
       "  <thead>\n",
       "    <tr style=\"text-align: right;\">\n",
       "      <th></th>\n",
       "      <th>longitude</th>\n",
       "      <th>latitude</th>\n",
       "      <th>cluster_label</th>\n",
       "    </tr>\n",
       "  </thead>\n",
       "  <tbody>\n",
       "    <tr>\n",
       "      <th>0</th>\n",
       "      <td>-112.070792</td>\n",
       "      <td>33.451625</td>\n",
       "      <td>0</td>\n",
       "    </tr>\n",
       "    <tr>\n",
       "      <th>1</th>\n",
       "      <td>-112.065542</td>\n",
       "      <td>33.449298</td>\n",
       "      <td>0</td>\n",
       "    </tr>\n",
       "    <tr>\n",
       "      <th>2</th>\n",
       "      <td>-112.073931</td>\n",
       "      <td>33.456491</td>\n",
       "      <td>0</td>\n",
       "    </tr>\n",
       "    <tr>\n",
       "      <th>3</th>\n",
       "      <td>-112.074866</td>\n",
       "      <td>33.470115</td>\n",
       "      <td>0</td>\n",
       "    </tr>\n",
       "    <tr>\n",
       "      <th>4</th>\n",
       "      <td>-80.525690</td>\n",
       "      <td>43.477099</td>\n",
       "      <td>1</td>\n",
       "    </tr>\n",
       "    <tr>\n",
       "      <th>5</th>\n",
       "      <td>-80.526641</td>\n",
       "      <td>43.485875</td>\n",
       "      <td>1</td>\n",
       "    </tr>\n",
       "    <tr>\n",
       "      <th>6</th>\n",
       "      <td>-80.846495</td>\n",
       "      <td>35.225825</td>\n",
       "      <td>2</td>\n",
       "    </tr>\n",
       "    <tr>\n",
       "      <th>7</th>\n",
       "      <td>-112.074428</td>\n",
       "      <td>33.448491</td>\n",
       "      <td>0</td>\n",
       "    </tr>\n",
       "    <tr>\n",
       "      <th>8</th>\n",
       "      <td>-112.073101</td>\n",
       "      <td>33.429907</td>\n",
       "      <td>0</td>\n",
       "    </tr>\n",
       "    <tr>\n",
       "      <th>9</th>\n",
       "      <td>-80.839636</td>\n",
       "      <td>35.227054</td>\n",
       "      <td>2</td>\n",
       "    </tr>\n",
       "    <tr>\n",
       "      <th>10</th>\n",
       "      <td>-112.073815</td>\n",
       "      <td>33.448751</td>\n",
       "      <td>0</td>\n",
       "    </tr>\n",
       "    <tr>\n",
       "      <th>11</th>\n",
       "      <td>-80.843950</td>\n",
       "      <td>35.225394</td>\n",
       "      <td>2</td>\n",
       "    </tr>\n",
       "    <tr>\n",
       "      <th>12</th>\n",
       "      <td>-80.536183</td>\n",
       "      <td>43.472280</td>\n",
       "      <td>1</td>\n",
       "    </tr>\n",
       "    <tr>\n",
       "      <th>13</th>\n",
       "      <td>-112.074283</td>\n",
       "      <td>33.478793</td>\n",
       "      <td>0</td>\n",
       "    </tr>\n",
       "    <tr>\n",
       "      <th>14</th>\n",
       "      <td>-80.840432</td>\n",
       "      <td>35.227479</td>\n",
       "      <td>2</td>\n",
       "    </tr>\n",
       "    <tr>\n",
       "      <th>15</th>\n",
       "      <td>-80.841999</td>\n",
       "      <td>35.228314</td>\n",
       "      <td>2</td>\n",
       "    </tr>\n",
       "    <tr>\n",
       "      <th>16</th>\n",
       "      <td>-80.846935</td>\n",
       "      <td>35.225860</td>\n",
       "      <td>2</td>\n",
       "    </tr>\n",
       "    <tr>\n",
       "      <th>17</th>\n",
       "      <td>-112.074115</td>\n",
       "      <td>33.475583</td>\n",
       "      <td>0</td>\n",
       "    </tr>\n",
       "    <tr>\n",
       "      <th>18</th>\n",
       "      <td>-80.968306</td>\n",
       "      <td>35.283424</td>\n",
       "      <td>2</td>\n",
       "    </tr>\n",
       "    <tr>\n",
       "      <th>19</th>\n",
       "      <td>-80.540838</td>\n",
       "      <td>43.484427</td>\n",
       "      <td>1</td>\n",
       "    </tr>\n",
       "  </tbody>\n",
       "</table>\n",
       "</div>"
      ],
      "text/plain": [
       "     longitude   latitude  cluster_label\n",
       "0  -112.070792  33.451625              0\n",
       "1  -112.065542  33.449298              0\n",
       "2  -112.073931  33.456491              0\n",
       "3  -112.074866  33.470115              0\n",
       "4   -80.525690  43.477099              1\n",
       "5   -80.526641  43.485875              1\n",
       "6   -80.846495  35.225825              2\n",
       "7  -112.074428  33.448491              0\n",
       "8  -112.073101  33.429907              0\n",
       "9   -80.839636  35.227054              2\n",
       "10 -112.073815  33.448751              0\n",
       "11  -80.843950  35.225394              2\n",
       "12  -80.536183  43.472280              1\n",
       "13 -112.074283  33.478793              0\n",
       "14  -80.840432  35.227479              2\n",
       "15  -80.841999  35.228314              2\n",
       "16  -80.846935  35.225860              2\n",
       "17 -112.074115  33.475583              0\n",
       "18  -80.968306  35.283424              2\n",
       "19  -80.540838  43.484427              1"
      ]
     },
     "execution_count": 26,
     "metadata": {},
     "output_type": "execute_result"
    }
   ],
   "source": [
    "testdf = ms_df.copy()\n",
    "testdf['cluster_label'] = fitted_dbscan.labels_\n",
    "testdf.head(20)"
   ]
  },
  {
   "cell_type": "code",
   "execution_count": 27,
   "id": "bbd71d4d",
   "metadata": {},
   "outputs": [
    {
     "data": {
      "text/html": [
       "<div>\n",
       "<style scoped>\n",
       "    .dataframe tbody tr th:only-of-type {\n",
       "        vertical-align: middle;\n",
       "    }\n",
       "\n",
       "    .dataframe tbody tr th {\n",
       "        vertical-align: top;\n",
       "    }\n",
       "\n",
       "    .dataframe thead th {\n",
       "        text-align: right;\n",
       "    }\n",
       "</style>\n",
       "<table border=\"1\" class=\"dataframe\">\n",
       "  <thead>\n",
       "    <tr style=\"text-align: right;\">\n",
       "      <th></th>\n",
       "      <th>longitude</th>\n",
       "      <th>latitude</th>\n",
       "    </tr>\n",
       "  </thead>\n",
       "  <tbody>\n",
       "    <tr>\n",
       "      <th>0</th>\n",
       "      <td>-112.070792</td>\n",
       "      <td>33.451625</td>\n",
       "    </tr>\n",
       "    <tr>\n",
       "      <th>1</th>\n",
       "      <td>-112.065542</td>\n",
       "      <td>33.449298</td>\n",
       "    </tr>\n",
       "    <tr>\n",
       "      <th>2</th>\n",
       "      <td>-112.073931</td>\n",
       "      <td>33.456491</td>\n",
       "    </tr>\n",
       "    <tr>\n",
       "      <th>3</th>\n",
       "      <td>-112.074866</td>\n",
       "      <td>33.470115</td>\n",
       "    </tr>\n",
       "    <tr>\n",
       "      <th>4</th>\n",
       "      <td>-80.525690</td>\n",
       "      <td>43.477099</td>\n",
       "    </tr>\n",
       "  </tbody>\n",
       "</table>\n",
       "</div>"
      ],
      "text/plain": [
       "    longitude   latitude\n",
       "0 -112.070792  33.451625\n",
       "1 -112.065542  33.449298\n",
       "2 -112.073931  33.456491\n",
       "3 -112.074866  33.470115\n",
       "4  -80.525690  43.477099"
      ]
     },
     "execution_count": 27,
     "metadata": {},
     "output_type": "execute_result"
    }
   ],
   "source": [
    "ms_df.head()"
   ]
  },
  {
   "cell_type": "code",
   "execution_count": 39,
   "id": "0593007d",
   "metadata": {},
   "outputs": [],
   "source": [
    "ms_df=df.copy()\n",
    "ms_df['cluster_labels']=fitted_dbscan.labels_\n",
    "clusters=ms_df['cluster_labels'].unique()"
   ]
  },
  {
   "cell_type": "code",
   "execution_count": 41,
   "id": "33463e20",
   "metadata": {
    "scrolled": true
   },
   "outputs": [
    {
     "data": {
      "text/plain": [
       "100"
      ]
     },
     "execution_count": 41,
     "metadata": {},
     "output_type": "execute_result"
    }
   ],
   "source": [
    "# Start with the first claster\n",
    "cluster = clusters[1]\n",
    "num_points = len(ms_df[ms_df['cluster_labels'] == cluster])\n",
    "\n",
    "num_points\n"
   ]
  },
  {
   "cell_type": "code",
   "execution_count": 43,
   "id": "9c2fb376",
   "metadata": {},
   "outputs": [],
   "source": [
    "points_coordinate = ms_df[ms_df['cluster_labels'] == cluster][['longitude','latitude']]"
   ]
  },
  {
   "cell_type": "code",
   "execution_count": 44,
   "id": "85b1329a",
   "metadata": {},
   "outputs": [],
   "source": [
    "import numpy as np\n",
    "from scipy import spatial\n",
    "import matplotlib.pyplot as plt\n",
    "import math\n",
    "\n",
    "\n",
    "\n",
    "distance_matrix = spatial.distance.cdist(points_coordinate, points_coordinate, metric='euclidean')\n",
    "\n",
    "\n",
    "def cal_total_distance(routine):\n",
    "    '''The objective function. input routine, return total distance.\n",
    "    cal_total_distance(np.arange(num_points))\n",
    "    '''\n",
    "    num_points, = routine.shape\n",
    "    return sum([distance_matrix[routine[i % num_points], routine[(i + 1) % num_points]] for i in range(num_points)])"
   ]
  },
  {
   "cell_type": "markdown",
   "id": "0fb19b07",
   "metadata": {},
   "source": [
    "# Genetic Algorithm for TSP"
   ]
  },
  {
   "cell_type": "code",
   "execution_count": 45,
   "id": "cc91daf1",
   "metadata": {},
   "outputs": [
    {
     "name": "stdout",
     "output_type": "stream",
     "text": [
      "Requirement already satisfied: sko in c:\\users\\bharani\\anaconda3\\lib\\site-packages (0.5.7)\n",
      "Requirement already satisfied: numpy in c:\\users\\bharani\\anaconda3\\lib\\site-packages (from sko) (1.21.5)\n",
      "Requirement already satisfied: scipy in c:\\users\\bharani\\anaconda3\\lib\\site-packages (from sko) (1.7.3)\n"
     ]
    }
   ],
   "source": [
    "!pip install sko"
   ]
  },
  {
   "cell_type": "code",
   "execution_count": 46,
   "id": "75f5fa81",
   "metadata": {},
   "outputs": [],
   "source": [
    "from sko.GA import GA_TSP\n",
    "\n",
    "ga_tsp = GA_TSP(func=cal_total_distance, n_dim=num_points, size_pop=50, max_iter=500, prob_mut=1)\n",
    "best_points, best_distance = ga_tsp.run()"
   ]
  },
  {
   "cell_type": "code",
   "execution_count": 48,
   "id": "7f5fe3e2",
   "metadata": {},
   "outputs": [
    {
     "data": {
      "text/plain": [
       "array([33, 82, 42, 34, 52, 27, 57, 71, 10, 94, 11, 66, 89, 50,  7, 36, 99,\n",
       "       20, 12, 19, 26, 31, 25, 76,  0, 86, 24, 40, 17, 18, 14, 75, 74, 45,\n",
       "       73, 46, 61, 28, 23, 32, 38, 92, 70, 87, 55, 56, 93, 51,  5, 79, 49,\n",
       "       47, 22, 64, 90, 91, 44, 30, 35, 37, 16, 98, 13,  8,  6, 65, 43,  1,\n",
       "       84,  9, 29, 53, 78, 54, 88,  4, 58, 68, 97, 95, 41, 85,  3, 39, 62,\n",
       "       15, 63, 67, 72, 80, 59, 21, 96, 77,  2, 60, 83, 81, 48, 69],\n",
       "      dtype=int64)"
      ]
     },
     "execution_count": 48,
     "metadata": {},
     "output_type": "execute_result"
    }
   ],
   "source": [
    "best_points"
   ]
  },
  {
   "cell_type": "code",
   "execution_count": 49,
   "id": "d9bbedac",
   "metadata": {},
   "outputs": [
    {
     "data": {
      "text/plain": [
       "array([0.49578286])"
      ]
     },
     "execution_count": 49,
     "metadata": {},
     "output_type": "execute_result"
    }
   ],
   "source": [
    "best_distance"
   ]
  },
  {
   "cell_type": "markdown",
   "id": "5b46f241",
   "metadata": {},
   "source": [
    "# Simulated Annealing (SA) for TSP"
   ]
  },
  {
   "cell_type": "code",
   "execution_count": 50,
   "id": "49e3cf45",
   "metadata": {},
   "outputs": [],
   "source": [
    "from sko.SA import SA_TSP\n",
    "\n",
    "sa_tsp = SA_TSP(func=cal_total_distance, x0=range(num_points), T_max=500, T_min=0.1)\n",
    "\n",
    "best_points, best_distance = sa_tsp.run()"
   ]
  },
  {
   "cell_type": "code",
   "execution_count": 51,
   "id": "21bd7317",
   "metadata": {},
   "outputs": [
    {
     "data": {
      "text/plain": [
       "array([92, 31, 63, 26, 69,  3, 46, 73, 74,  5,  6, 86, 60, 99, 95, 53,  1,\n",
       "       52, 65, 43, 32, 90, 75, 39, 17, 66,  2,  8, 78, 58, 88, 29, 67, 62,\n",
       "       85, 33, 84, 68, 34, 72, 16,  7, 96, 41,  4, 59, 12, 40, 87, 14, 28,\n",
       "       77, 42, 98, 91, 97, 44, 55, 15, 70, 56, 64, 25, 48, 20, 27, 10, 54,\n",
       "       11, 51, 61, 24, 35, 45, 83,  0, 93, 57, 23, 19, 94, 80, 13, 21, 49,\n",
       "       89, 81, 22, 82, 71, 76, 47, 36,  9, 30, 37, 38, 50, 18, 79])"
      ]
     },
     "execution_count": 51,
     "metadata": {},
     "output_type": "execute_result"
    }
   ],
   "source": [
    "best_points"
   ]
  },
  {
   "cell_type": "code",
   "execution_count": 53,
   "id": "988a207f",
   "metadata": {},
   "outputs": [
    {
     "name": "stdout",
     "output_type": "stream",
     "text": [
      "for cluster number  1\n",
      "num_points =  100\n",
      "\n",
      "====> Genetic Algorithm\n",
      "best_points =  [62 48  2 25 20 12 67 39 33 72 31 77 21 83 99 96 80 26 59 76 60 15 63 19\n",
      " 69 81 36 11 50 71 10 42 64 66 89 94 82 57 65  1 52 85  3 97 95 41 29 53\n",
      " 78  4 68 54 88 58  9 84  6 37 91 44 98 30 35  8 34 27 43  7  0 13 16 18\n",
      " 47 79 38  5 87 17 92 86 40 24 73 93 55 75 14 28 74 70 45 56 51 32 90 22\n",
      " 49 23 61 46]\n",
      "best_distance =  [0.425195]\n",
      "\n",
      "====> Simulated Annealing\n",
      "best_points =  [41 62 98 44 35 63 97 58 14 52 92 45 27 22  6 88 53 42 54 21 20 48  2  3\n",
      " 19 83  5 38 56  9 71 79 50 65 29 10 59 76 93 24 72 43 75 13 99 47 39 12\n",
      " 61 94  8 66 64 18 16 15 40 28 51 30 33 11 46 67 78 34  1 77 91 36 90 60\n",
      " 81 73 87 89 96 31 74 17 80 32 49 86 23 26 82 37  7 70 25 55  4 84 68  0\n",
      " 57 69 85 95]\n",
      "best_distance =  1.4862594546866126\n"
     ]
    }
   ],
   "source": [
    "# to start with the cluster 1\n",
    "cluster = clusters[1]\n",
    "print('for cluster number ', cluster)\n",
    "num_points = len(ms_df[ms_df['cluster_labels'] == cluster])\n",
    "print('num_points = ',num_points)\n",
    "# Genetic Algorithm\n",
    "print('\\n====> Genetic Algorithm')\n",
    "ga_tsp = GA_TSP(func=cal_total_distance, n_dim=num_points, size_pop=50, max_iter=500, prob_mut=1)\n",
    "best_points, best_distance = ga_tsp.run()\n",
    "print('best_points = ', best_points)\n",
    "print('best_distance = ',best_distance)\n",
    "# Simulated Annealing\n",
    "print('\\n====> Simulated Annealing')\n",
    "sa_tsp = SA_TSP(func=cal_total_distance, x0=range(num_points), T_max=500, T_min=0.1)\n",
    "best_points, best_distance = sa_tsp.run()\n",
    "print('best_points = ', best_points)\n",
    "print('best_distance = ',best_distance)"
   ]
  },
  {
   "cell_type": "code",
   "execution_count": null,
   "id": "b1b931c4",
   "metadata": {},
   "outputs": [],
   "source": []
  }
 ],
 "metadata": {
  "kernelspec": {
   "display_name": "Python 3 (ipykernel)",
   "language": "python",
   "name": "python3"
  },
  "language_info": {
   "codemirror_mode": {
    "name": "ipython",
    "version": 3
   },
   "file_extension": ".py",
   "mimetype": "text/x-python",
   "name": "python",
   "nbconvert_exporter": "python",
   "pygments_lexer": "ipython3",
   "version": "3.9.12"
  }
 },
 "nbformat": 4,
 "nbformat_minor": 5
}
